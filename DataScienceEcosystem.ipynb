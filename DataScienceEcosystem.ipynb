{
 "cells": [
  {
   "cell_type": "markdown",
   "id": "e249a942-fd2b-4f13-b2f6-6190aeb589fb",
   "metadata": {},
   "source": [
    "# Data Science Tools and Ecosystem"
   ]
  },
  {
   "cell_type": "markdown",
   "id": "203aaa4d-897b-48c6-8adc-e51a37b1693b",
   "metadata": {},
   "source": [
    "In this notebook, Data Science Tools and Ecosystem are summarized"
   ]
  },
  {
   "cell_type": "markdown",
   "id": "67365e57-c01b-4c32-96ed-40c2e89c3bab",
   "metadata": {},
   "source": [
    "**Objectives:**\n",
    "* To know about different open-source tools for data science\n",
    "* To learn some programming languages and their pros and cons regarding data science\n",
    "* To know about some commercial tools\n",
    "* Hands on experience in jupyterlab and RStudio"
   ]
  },
  {
   "cell_type": "markdown",
   "id": "1d9ae57b-1c44-4266-9da4-04bd210e39e2",
   "metadata": {},
   "source": [
    "Some of the popular languages that Data Scientists use are:\n",
    "1. Python\n",
    "2. Scala\n",
    "3. R\n",
    "4. Java"
   ]
  },
  {
   "cell_type": "markdown",
   "id": "c74acd91-e148-40a7-b9e1-a9951eec683c",
   "metadata": {},
   "source": [
    "Some of the commonly used libraries used by Data Scientists include:\n",
    "1. pandas\n",
    "2. Numpy\n",
    "3. Matplotlib\n",
    "4. Sci-kit Learn"
   ]
  },
  {
   "cell_type": "markdown",
   "id": "01b86dfa-f24f-4d16-a524-f57c6f1beab1",
   "metadata": {},
   "source": [
    "| Data Science Tools |\n",
    "| ------------------ |\n",
    "| MySQL              |\n",
    "| Ceph               |\n",
    "| Apache-Spark       |\n",
    "| Apache-Airflow     |\n",
    "| TensorFlow         |\n",
    "| Jupyter            |"
   ]
  },
  {
   "cell_type": "markdown",
   "id": "7a1406fb-ba2d-4315-9f9c-8485df12436d",
   "metadata": {},
   "source": [
    "### Below are a few examples of evaluating arithmetic expressions in Python"
   ]
  },
  {
   "cell_type": "code",
   "execution_count": 1,
   "id": "02786b36-d60b-4141-8bde-43f76a1c3cc2",
   "metadata": {
    "tags": []
   },
   "outputs": [
    {
     "data": {
      "text/plain": [
       "17"
      ]
     },
     "execution_count": 1,
     "metadata": {},
     "output_type": "execute_result"
    }
   ],
   "source": [
    "(3*4)+5"
   ]
  },
  {
   "cell_type": "code",
   "execution_count": 6,
   "id": "02240377-fea7-4bb5-ace7-65ce401639cd",
   "metadata": {
    "tags": []
   },
   "outputs": [
    {
     "name": "stdout",
     "output_type": "stream",
     "text": [
      "200 minutes is equal to 3 hours and 20 minutes\n"
     ]
    }
   ],
   "source": [
    "# This will convert 200 minutes to hours by diving by 60\n",
    "a = \"200\" #minutes\n",
    "b = int(int(a)/60) #hours\n",
    "c = int(a) % 60 #remaining minutes\n",
    "print(f'200 minutes is equal to {b} hours and {c} minutes')\n"
   ]
  },
  {
   "cell_type": "markdown",
   "id": "875fe38f-2705-4987-9fff-590a437d6c91",
   "metadata": {},
   "source": [
    "## Author\n",
    "Md Hasan Habib"
   ]
  },
  {
   "cell_type": "code",
   "execution_count": null,
   "id": "9356b66c-bdb3-428c-ac4f-e5c3d1adfb91",
   "metadata": {},
   "outputs": [],
   "source": []
  }
 ],
 "metadata": {
  "kernelspec": {
   "display_name": "Python 3 (ipykernel)",
   "language": "python",
   "name": "python3"
  },
  "language_info": {
   "codemirror_mode": {
    "name": "ipython",
    "version": 3
   },
   "file_extension": ".py",
   "mimetype": "text/x-python",
   "name": "python",
   "nbconvert_exporter": "python",
   "pygments_lexer": "ipython3",
   "version": "3.11.5"
  }
 },
 "nbformat": 4,
 "nbformat_minor": 5
}
